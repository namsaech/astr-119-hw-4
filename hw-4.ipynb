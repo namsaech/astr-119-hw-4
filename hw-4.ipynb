{
 "cells": [
  {
   "cell_type": "code",
   "execution_count": null,
   "metadata": {},
   "outputs": [],
   "source": [
    "#astr-119-hw-4\n",
    "#questions 3 and 4, how many intervals the trapezoid and simpsons\n",
    "#Method take to reach accurate estimate, is the number of iterations it took\n",
    "%matplotlib inline\n",
    "import numpy as np\n",
    "import matplotlib.pyplot as plt"
   ]
  },
  {
   "cell_type": "code",
   "execution_count": null,
   "metadata": {},
   "outputs": [],
   "source": [
    "def func(x):\n",
    "    a = np.exp(-2*x)\n",
    "    b = np.cos(10*x)\n",
    "    return a*b"
   ]
  },
  {
   "cell_type": "code",
   "execution_count": null,
   "metadata": {},
   "outputs": [],
   "source": [
    "#did integration by parts\n",
    "def func_integral(x):\n",
    "    a = np.exp(-2*x)\n",
    "    b = np.cos(10*x)\n",
    "    return ( (400/401)*(a/10)*np.sin(10*x) - (1/200)*a*b)"
   ]
  },
  {
   "cell_type": "code",
   "execution_count": null,
   "metadata": {},
   "outputs": [],
   "source": [
    "def trapezoid_core(f,x,h):\n",
    "    return 0.5*h*(f(x+h) + f(x))"
   ]
  },
  {
   "cell_type": "code",
   "execution_count": null,
   "metadata": {},
   "outputs": [],
   "source": [
    "def trapezoid_method(f, a, b, N):\n",
    "    x = np.linspace(a, b, N)\n",
    "    h = x[1] - x[0]\n",
    "    #define value of integral\n",
    "    Fint = 0.0\n",
    "    #perform intergral using trapezoid method\n",
    "    for i in range(0,len(x)-1,1):\n",
    "        Fint += trapezoid_core(f,x[i],h)\n",
    "        print('this is trap iteration',i)\n",
    "    return Fint\n"
   ]
  },
  {
   "cell_type": "code",
   "execution_count": null,
   "metadata": {},
   "outputs": [],
   "source": [
    "#simpson's method\n",
    "def simpsons_core(f,x,h):\n",
    "    return h*( f(x) + 4*f(x+h) + f(x+2*h))/3.\n",
    "#wrapper function for simpson's"
   ]
  },
  {
   "cell_type": "code",
   "execution_count": null,
   "metadata": {},
   "outputs": [],
   "source": [
    "\n",
    "def simpsons_method(f,a,b,N):\n",
    "    x = np.linspace(a,b,N)\n",
    "    h = x[1] - x[0]\n",
    "    Fint = 0.0\n",
    "#perform integral with simpsons method\n",
    "    for i in range(0,len(x)-2,2):\n",
    "        Fint += simpsons_core(f,x[i],h)\n",
    "        print('this is simpsonsn iteration', i)\n",
    "    #apply simpsons rule over last\n",
    "    if((N%2)==0):\n",
    "        Fint += simpsons_core(f,x[-2],0.5*h)\n",
    "    return Fint"
   ]
  },
  {
   "cell_type": "code",
   "execution_count": null,
   "metadata": {},
   "outputs": [],
   "source": [
    "#romberg integration\n",
    "def romberg_core(f,a,b,i):\n",
    "    h = b-a #difference of b and a\n",
    "    #increment between new function evals\n",
    "    dh = h/2.**(i)\n",
    "    #cofactor\n",
    "    K = h/2.**(i+1)\n",
    "    #functinon evaluation\n",
    "    M = 0.0\n",
    "    for j in range(2**i):\n",
    "        M += f(a + 0.5*dh + j*dh)\n",
    "        return K*M"
   ]
  },
  {
   "cell_type": "code",
   "execution_count": null,
   "metadata": {},
   "outputs": [],
   "source": [
    "#wrapper function for romberg \n",
    "def romberg_integration(f,a,b,tol):\n",
    "    i = 0\n",
    "    imax = 1000 #max number of iterations\n",
    "    #error estimate, large value\n",
    "    delta = 100.0*np.fabs(tol)\n",
    "    #array of integral answers\n",
    "    I = np.zeros(imax,dtype=float)\n",
    "    #get the zeroth romberg integration\n",
    "    I[0] = 0.5*(b-a)*(f(a) + f(b))\n",
    "    i += 1\n",
    "    \n",
    "    while(delta>tol):\n",
    "        #find this romberg iteration\n",
    "        I[i] = 0.5*I[i-1] + romberg_core(f,a,b,i)\n",
    "        #compute new error\n",
    "        delta = np.fabs( I[i]-I[i-1]/I[i] )\n",
    "        print(\"this is romberg iteration\", i, I[i], I[i-1], \"this is new error\", delta)\n",
    "        \n",
    "        if(delta>tol):\n",
    "            i +=1\n",
    "            if(i>imax):\n",
    "                print(\"max iterations reached\")\n",
    "                raise StopIteration('stopping iteration after', i)\n",
    "    return I[i]\n",
    "    "
   ]
  },
  {
   "cell_type": "code",
   "execution_count": null,
   "metadata": {},
   "outputs": [],
   "source": [
    "#check the integrals\n",
    "Answer = func_integral(1)-func_integral(0)\n",
    "print(Answer)\n",
    "print(\"trapezoid\")\n",
    "print(trapezoid_method(func,0,np.pi,10))\n",
    "print(\"simpsons method\")\n",
    "print(simpsons_method(func,0,np.pi,10))\n",
    "print(\"romberg\")\n",
    "tolerance = 1.0e-6\n",
    "RI = romberg_integration(func,0,np.pi,tolerance)\n",
    "print(RI, (RI-Answer)/Answer, tolerance)"
   ]
  },
  {
   "cell_type": "code",
   "execution_count": null,
   "metadata": {},
   "outputs": [],
   "source": []
  }
 ],
 "metadata": {
  "kernelspec": {
   "display_name": "Python 3",
   "language": "python",
   "name": "python3"
  },
  "language_info": {
   "codemirror_mode": {
    "name": "ipython",
    "version": 3
   },
   "file_extension": ".py",
   "mimetype": "text/x-python",
   "name": "python",
   "nbconvert_exporter": "python",
   "pygments_lexer": "ipython3",
   "version": "3.4.6"
  }
 },
 "nbformat": 4,
 "nbformat_minor": 2
}
